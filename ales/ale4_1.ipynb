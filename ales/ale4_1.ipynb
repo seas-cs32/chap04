{
  "cells": [
    {
      "cell_type": "markdown",
      "id": "60496823",
      "metadata": {
        "id": "60496823"
      },
      "source": [
        "## ALE 4.1: This and that  \n",
        "\n",
        "© 2024 Michael D. Smith. All rights reserved. This material is free to view and download for personal use only. It is not for re-distribution or use outside this class."
      ]
    },
    {
      "cell_type": "markdown",
      "id": "aa068067",
      "metadata": {
        "id": "aa068067"
      },
      "source": [
        "Python allows you to assign multiple values to multiple names in one assignment-statement. Here are the semantics:\n",
        "\n",
        "*   The lefthand side of the assignment operator must be a comma-separated list of names.\n",
        "*   The righthand side of the assignment operator can be\n",
        "    *   a comma-separated values, or\n",
        "    *   a value that adheres to the sequence abstraction.\n",
        "\n",
        "The first value on the left is given the first name on the right; the second on the left is given the second on the right; and so forth. For the operation to complete without an error, the comma-separated lists on both sides of the assignment operator must have the same number of elements. Similarly, the length of the sequence value on the right must be the same as the number of comma-separated names on the left.\n",
        "\n",
        "This is not an operation you'd want to do all the time, since it can quickly become confusing to lump different things together in a single assignment statement. There are, however, two cases where this functionality is very helpful:"
      ]
    },
    {
      "cell_type": "code",
      "execution_count": null,
      "id": "506fb4f9",
      "metadata": {
        "id": "506fb4f9"
      },
      "outputs": [],
      "source": [
        "# CASE 1: Unpacking a sequence into its component pieces\n",
        "# so that you can operate on each separately\n",
        "answer = '16.83 million books are in the Harvard library'\n",
        "\n",
        "num, magnitude, units = answer.split()[0:3]\n",
        "\n",
        "print(\"num =\", num)\n",
        "print(\"magnitude =\", magnitude)\n",
        "print(\"units =\", units)"
      ]
    },
    {
      "cell_type": "code",
      "source": [
        "# CASE 2: Swapping two values\n",
        "x = 0\n",
        "y = 1\n",
        "\n",
        "x, y = y, x\n",
        "\n",
        "print(f'x = {x}, y = {y}')"
      ],
      "metadata": {
        "id": "q9Jf5ryyq0Iw"
      },
      "id": "q9Jf5ryyq0Iw",
      "execution_count": null,
      "outputs": []
    },
    {
      "cell_type": "markdown",
      "id": "44819ee6",
      "metadata": {
        "id": "44819ee6"
      },
      "source": [
        "**Step 1.** Write an equivalent sequence of statements to implement the swapping of two values without using multiple assignment."
      ]
    },
    {
      "cell_type": "code",
      "execution_count": null,
      "id": "8a419441",
      "metadata": {
        "id": "8a419441"
      },
      "outputs": [],
      "source": [
        "# Swapping two values without multiple assignment\n",
        "x = 0\n",
        "y = 1\n",
        "\n",
        "# YOUR CODE HERE\n",
        "\n",
        "print(f'x = {x}, y = {y}')"
      ]
    },
    {
      "cell_type": "markdown",
      "id": "492235de",
      "metadata": {
        "id": "492235de"
      },
      "source": [
        "**Step 2.** Look at the code in CASE 2 and the code that you wrote. Which is easier to understand?"
      ]
    },
    {
      "cell_type": "markdown",
      "id": "be6bc515",
      "metadata": {
        "id": "be6bc515"
      },
      "source": [
        "Version 20240111"
      ]
    }
  ],
  "metadata": {
    "colab": {
      "provenance": []
    },
    "language_info": {
      "name": "python"
    },
    "kernelspec": {
      "name": "python3",
      "display_name": "Python 3"
    }
  },
  "nbformat": 4,
  "nbformat_minor": 5
}