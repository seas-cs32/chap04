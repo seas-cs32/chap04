{
  "cells": [
    {
      "cell_type": "markdown",
      "id": "60496823",
      "metadata": {
        "id": "60496823"
      },
      "source": [
        "## ALE 4.5: JSON makes my eyes ache\n",
        "\n",
        "© 2024 Michael D. Smith. All rights reserved. This material is free to view and download for personal use only. It is not for re-distribution or use outside this class."
      ]
    },
    {
      "cell_type": "markdown",
      "id": "aa068067",
      "metadata": {
        "id": "aa068067"
      },
      "source": [
        "The `qweb7.py` script illustrated how we can pull apart a response from Harvard's LibraryCloud API and determine if the Harvard Library system has a copy of _The Cat in the Hat_ by Dr. Seuss. But this script printed only the titles of each resource in the response.\n",
        "\n",
        "We've copied `qweb7.py` below, except that it asks for the top 4 results. See if you can extend the code in the following ways. Each will require you to read through the dumped JSON response and figure out the sequence of indexing operations you need to do to access the information you need to print. Be careful as some JSON fields may be a Python dictionary in one item and a Python list in another, as our code illustrated with the `'titleInfo'` field.\n",
        "\n",
        "1.   Print the author's name.\n",
        "2.   Print the type of resource (i.e., the item is a text or a still image).\n",
        "3.   If the resource is a text and the item includes an abstract, print it. The abstract for _The Cat in the Hat_ is \"Two children sitting at home on a rainy day are visited by the Cat in the Hat who shows them some tricks and games.\""
      ]
    },
    {
      "cell_type": "code",
      "execution_count": null,
      "id": "506fb4f9",
      "metadata": {
        "id": "506fb4f9"
      },
      "outputs": [],
      "source": [
        "### chap04/qweb7.py\n",
        "import requests\n",
        "import json\n",
        "\n",
        "def main():\n",
        "    print('Searching HOLLIS for \"The Cat in the Hat\"')\n",
        "\n",
        "    # Concatenate the first 3 components of a URL for HTTP\n",
        "    protocol = 'https'\n",
        "    hostname = 'api.lib.harvard.edu'\n",
        "    path = '/v2/items.json'\n",
        "    url = protocol + '://' + hostname + path\n",
        "\n",
        "    # Describe the query string as a Python dictionary\n",
        "    query = {'q': 'The Cat in the Hat',\n",
        "             'limit': 4\n",
        "    }\n",
        "\n",
        "    # Add a field to the request header saying what we accept\n",
        "    accept = {'Accept': 'application/json'}\n",
        "\n",
        "    response = requests.get(url, params=query, headers=accept)\n",
        "\n",
        "    # Read the response body in JSON format and print it\n",
        "    j = response.json()\n",
        "    print(\"response.json() =\", json.dumps(j, indent=4))\n",
        "\n",
        "    print()\n",
        "\n",
        "    if j['pagination']['numFound'] == 0:\n",
        "        print('Zero results')\n",
        "    else:\n",
        "        # Process each returned response\n",
        "        for i, item in enumerate(j['items']['mods']):\n",
        "            # Print title info\n",
        "            ti = item['titleInfo']\n",
        "            if type(ti) == list:\n",
        "                # Lots of title info; just print the first\n",
        "                ti = ti[0]\n",
        "            print(f\"Title #{i}: \", end='')\n",
        "            if 'nonSort' in ti:\n",
        "                print(ti['nonSort'], end='')\n",
        "            print(ti['title'])\n",
        "\n",
        "if __name__ == '__main__':\n",
        "    main()"
      ]
    },
    {
      "cell_type": "markdown",
      "id": "be6bc515",
      "metadata": {
        "id": "be6bc515"
      },
      "source": [
        "Version 20240111"
      ]
    }
  ],
  "metadata": {
    "colab": {
      "provenance": []
    },
    "language_info": {
      "name": "python"
    },
    "kernelspec": {
      "name": "python3",
      "display_name": "Python 3"
    }
  },
  "nbformat": 4,
  "nbformat_minor": 5
}