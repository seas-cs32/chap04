{
  "cells": [
    {
      "cell_type": "markdown",
      "id": "60496823",
      "metadata": {
        "id": "60496823"
      },
      "source": [
        "## ALE 4.2: Tuples, a box for everything  \n",
        "\n",
        "© 2024 Michael D. Smith. All rights reserved. This material is free to view and download for personal use only. It is not for re-distribution or use outside this class."
      ]
    },
    {
      "cell_type": "markdown",
      "id": "aa068067",
      "metadata": {
        "id": "aa068067"
      },
      "source": [
        "A **tuple** is yet another kind of Python sequence. They may look like a Python `list`, but they are immutable.\n",
        "\n",
        "Be careful. Tuples are always printed with surrounding parentheses, but you don't need parentheses to create a tuple. A comma is sufficient."
      ]
    },
    {
      "cell_type": "code",
      "execution_count": null,
      "id": "506fb4f9",
      "metadata": {
        "id": "506fb4f9"
      },
      "outputs": [],
      "source": [
        "t1 = 'is blue', 'Who changed the sky?!?'\n",
        "print(t1)\n",
        "\n",
        "t2 = 'is blue', 1\n",
        "print(t2)\n",
        "\n",
        "t3 = 0, 1\n",
        "print(t3)\n",
        "\n",
        "t4 = (0, 1)\n",
        "print(t4)\n",
        "\n",
        "print(t3 == t4)"
      ]
    },
    {
      "cell_type": "markdown",
      "id": "44819ee6",
      "metadata": {
        "id": "44819ee6"
      },
      "source": [
        "**Step 1.** Run the code in the code block above. Notice the different ways you can make a tuple.\n",
        "\n",
        "**Step 2.** And here is some stuff not to do. Execute each code statement and talk with your partner(s) about what's wrong."
      ]
    },
    {
      "cell_type": "code",
      "execution_count": null,
      "id": "8a419441",
      "metadata": {
        "id": "8a419441"
      },
      "outputs": [],
      "source": [
        "# an error\n",
        "x, y = 0, 1, 2"
      ]
    },
    {
      "cell_type": "code",
      "source": [
        "# not an error, but hard to understand\n",
        "x, y = 0, (1, 2)"
      ],
      "metadata": {
        "id": "-wpIcX_7r4Fg"
      },
      "id": "-wpIcX_7r4Fg",
      "execution_count": null,
      "outputs": []
    },
    {
      "cell_type": "markdown",
      "id": "492235de",
      "metadata": {
        "id": "492235de"
      },
      "source": [
        "**Step 3.** We’ve been looking at tuples with just two values in them, but a tuple can also contain a single value or many values."
      ]
    },
    {
      "cell_type": "code",
      "source": [
        "a_big_tuple = 'a', 2, 'c', 4\n",
        "print(a_big_tuple)\n",
        "\n",
        "a_big_tuple = 'a', 2, 'c', 4,\n",
        "print(a_big_tuple)\n",
        "\n",
        "a_big_tuple = ('a', 2, 'c', 4,)\n",
        "print(a_big_tuple)"
      ],
      "metadata": {
        "id": "YSjpAVhAsAiL"
      },
      "id": "YSjpAVhAsAiL",
      "execution_count": null,
      "outputs": []
    },
    {
      "cell_type": "markdown",
      "source": [
        "Notice that you can add a comma after the last element in a tuple, and the Python interpreter happily throws it away. However, you need this to be able to define a tuple with a single element:"
      ],
      "metadata": {
        "id": "qbIbXMK7sBvI"
      },
      "id": "qbIbXMK7sBvI"
    },
    {
      "cell_type": "code",
      "source": [
        "a_tuple = 0,\n",
        "print(a_tuple)\n",
        "\n",
        "not_a_tuple = (0)\n",
        "print(not_a_tuple)\n",
        "\n",
        "print(a_tuple == not_a_tuple)"
      ],
      "metadata": {
        "id": "3oaAWS0isFt-"
      },
      "id": "3oaAWS0isFt-",
      "execution_count": null,
      "outputs": []
    },
    {
      "cell_type": "markdown",
      "source": [
        "Before you execute the following code block, answer for yourself if the expression that is the parameter to `print` will evaluate `True` or `False`, given the definitions of the variables from above.\n",
        "\n",
        "Now run the code block to check your work."
      ],
      "metadata": {
        "id": "KPzd4ToKsJSK"
      },
      "id": "KPzd4ToKsJSK"
    },
    {
      "cell_type": "code",
      "source": [
        "print(a_tuple[0] == not_a_tuple)"
      ],
      "metadata": {
        "id": "6ELChfwysRZj"
      },
      "id": "6ELChfwysRZj",
      "execution_count": null,
      "outputs": []
    },
    {
      "cell_type": "markdown",
      "source": [
        "**Programming Tip:** We've played around with the syntax of tuples, and now I'll mention one reason why they are useful. One of their most convenient uses is to return multiple values from a function. Remember that a function returns only a **single object**. A tuple is a convenient way to box up every result you have computed in a function and return them in a single object, which the caller can pull apart using multiple assignment!"
      ],
      "metadata": {
        "id": "eD3LEqDhsVuH"
      },
      "id": "eD3LEqDhsVuH"
    },
    {
      "cell_type": "markdown",
      "id": "be6bc515",
      "metadata": {
        "id": "be6bc515"
      },
      "source": [
        "Version 20240111"
      ]
    }
  ],
  "metadata": {
    "colab": {
      "provenance": []
    },
    "language_info": {
      "name": "python"
    },
    "kernelspec": {
      "name": "python3",
      "display_name": "Python 3"
    }
  },
  "nbformat": 4,
  "nbformat_minor": 5
}