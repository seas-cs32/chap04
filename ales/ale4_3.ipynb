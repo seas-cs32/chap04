{
  "cells": [
    {
      "cell_type": "markdown",
      "id": "60496823",
      "metadata": {
        "id": "60496823"
      },
      "source": [
        "## ALE 4.3: But it must be true!\n",
        "\n",
        "© 2024 Michael D. Smith. All rights reserved. This material is free to view and download for personal use only. It is not for re-distribution or use outside this class."
      ]
    },
    {
      "cell_type": "markdown",
      "id": "aa068067",
      "metadata": {
        "id": "aa068067"
      },
      "source": [
        "When you're first coding a solution to a problem, you will find yourself making assumptions. You could document them in a comment, but it is often more helpful to include an **assert-statement** in your code.\n",
        "\n",
        "The assert-statement takes a condition, which is what you expect to be `True` every time you hit this point in your code. As long as the condition evaluates `True`, execution proceeds as if the assert-statement wasn't there (i.e., your assumption holds). However, if the assert condition evaluates to `False`, the statement throws an `AssertionError`, which tells you that something about your thinking was wrong.\n",
        "\n",
        "**Step 1.** To experience an assertion failure, run the following silly example."
      ]
    },
    {
      "cell_type": "code",
      "execution_count": null,
      "id": "506fb4f9",
      "metadata": {
        "id": "506fb4f9"
      },
      "outputs": [],
      "source": [
        "the_sky = 'is red'\n",
        "assert(the_sky == 'is blue')\n",
        "print('It must be because execution got here!')"
      ]
    },
    {
      "cell_type": "markdown",
      "id": "44819ee6",
      "metadata": {
        "id": "44819ee6"
      },
      "source": [
        "**Step 2.** Be careful with your parentheses in this statement. `assert` is **not** a command, but a kind of Python statement. We can rewrite the code block above in the follow ways:"
      ]
    },
    {
      "cell_type": "code",
      "execution_count": null,
      "id": "8a419441",
      "metadata": {
        "id": "8a419441"
      },
      "outputs": [],
      "source": [
        "# Adds a space after `assert`\n",
        "the_sky = 'is red'\n",
        "assert (the_sky == 'is blue')\n",
        "print('It must be because execution got here!')"
      ]
    },
    {
      "cell_type": "code",
      "source": [
        "# Removes the parentheses on the assert condition\n",
        "the_sky = 'is red'\n",
        "assert the_sky == 'is blue'\n",
        "print('It must be because execution got here!')"
      ],
      "metadata": {
        "id": "-wpIcX_7r4Fg"
      },
      "id": "-wpIcX_7r4Fg",
      "execution_count": null,
      "outputs": []
    },
    {
      "cell_type": "markdown",
      "id": "492235de",
      "metadata": {
        "id": "492235de"
      },
      "source": [
        "Run the two code blocks to prove to yourself that they're all equivalent.\n",
        "\n",
        "**Step 3.** An assert-statement also takes an optional second argument, which is the string you'd like printed when the assertion fails. Make sure you see the difference between the first assert-statement, which doesn't do what we want, and the two that follow, which do."
      ]
    },
    {
      "cell_type": "code",
      "source": [
        "# The INCORRECT way to include an assert message\n",
        "the_sky = 'is red'\n",
        "assert(the_sky == 'is blue', 'Who changed the sky?!?')\n",
        "print('It must be because execution got here!')"
      ],
      "metadata": {
        "id": "YSjpAVhAsAiL"
      },
      "id": "YSjpAVhAsAiL",
      "execution_count": null,
      "outputs": []
    },
    {
      "cell_type": "code",
      "source": [
        "# The CORRECT way to include an assert message\n",
        "the_sky = 'is red'\n",
        "assert the_sky == 'is blue', 'Who changed the sky?!?'\n",
        "print('It must be because execution got here!')"
      ],
      "metadata": {
        "id": "Pmx1cezqt2Z7"
      },
      "id": "Pmx1cezqt2Z7",
      "execution_count": null,
      "outputs": []
    },
    {
      "cell_type": "code",
      "source": [
        "# The CORRECT way to use parentheses around the assert condition\n",
        "the_sky = 'is red'\n",
        "assert (the_sky == 'is blue'), 'Who changed the sky?!?'\n",
        "print('It must be because execution got here!')"
      ],
      "metadata": {
        "id": "n-LbeHHVt4Li"
      },
      "id": "n-LbeHHVt4Li",
      "execution_count": null,
      "outputs": []
    },
    {
      "cell_type": "markdown",
      "source": [
        "**Step 4.** Where you put the closing parenthesis makes all the difference. Keep in mind that parentheses mean many different things in Python depending upon the context, as we just saw with tuples!"
      ],
      "metadata": {
        "id": "qbIbXMK7sBvI"
      },
      "id": "qbIbXMK7sBvI"
    },
    {
      "cell_type": "code",
      "source": [
        "# Parentheses surrounding a comma-separated list of objects\n",
        "# AFTER A FUNCTION NAME mean: \"Here are the arguments.\"\n",
        "print(the_sky == 'is blue', 'Who changed the sky?!?')\n",
        "\n",
        "# Parentheses surrounding a comma-separated list of objects\n",
        "# IN SOME OTHER CONTEXTS mean: \"Make a tuple.\"\n",
        "a_tuple = ('is blue', 'Who changed the sky?!?')\n",
        "print(a_tuple)"
      ],
      "metadata": {
        "id": "3oaAWS0isFt-"
      },
      "id": "3oaAWS0isFt-",
      "execution_count": null,
      "outputs": []
    },
    {
      "cell_type": "markdown",
      "source": [
        "Can you explain what was wrong in this INCORRECT use of assert?"
      ],
      "metadata": {
        "id": "KPzd4ToKsJSK"
      },
      "id": "KPzd4ToKsJSK"
    },
    {
      "cell_type": "code",
      "source": [
        "assert(the_sky == 'is blue', 'Who changed the sky?!?')"
      ],
      "metadata": {
        "id": "6ELChfwysRZj"
      },
      "id": "6ELChfwysRZj",
      "execution_count": null,
      "outputs": []
    },
    {
      "cell_type": "markdown",
      "id": "be6bc515",
      "metadata": {
        "id": "be6bc515"
      },
      "source": [
        "Version 20240111"
      ]
    }
  ],
  "metadata": {
    "colab": {
      "provenance": []
    },
    "language_info": {
      "name": "python"
    },
    "kernelspec": {
      "name": "python3",
      "display_name": "Python 3"
    }
  },
  "nbformat": 4,
  "nbformat_minor": 5
}